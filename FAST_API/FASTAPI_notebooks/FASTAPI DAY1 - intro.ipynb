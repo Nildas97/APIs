{
 "cells": [
  {
   "cell_type": "markdown",
   "id": "7b144387",
   "metadata": {},
   "source": [
    "# APIs introduction"
   ]
  },
  {
   "cell_type": "markdown",
   "id": "ed070d04",
   "metadata": {},
   "source": [
    "## By - Nilutpal Das"
   ]
  },
  {
   "cell_type": "markdown",
   "id": "f7b2465d",
   "metadata": {},
   "source": [
    "## 1. What is an API?"
   ]
  },
  {
   "cell_type": "markdown",
   "id": "ef694840",
   "metadata": {},
   "source": [
    "### An API, which stands for Application Programming Interface, is essentially a messenger that allows different software programs to communicate with each other. \n",
    "\n",
    "### Here's a breakdown of how APIs work: <br> 1. The request: You, as the user, interact with an app (like a weather app). This app sends a request to the API, specifying what information it needs (e.g., current temperature in your city). <br> 2. The messenger: The API acts as the messenger, carrying the request to the relevant server or database (like the kitchen in the restaurant analogy). <br> 3. The response: The server processes the request and sends back a response containing the requested information (e.g., the temperature data). <br> 4. The delivery: The API delivers the response back to the app, which then interprets it and presents it to you in a user-friendly way (e.g., displaying the temperature on your screen)."
   ]
  },
  {
   "cell_type": "markdown",
   "id": "d39d2aa4",
   "metadata": {},
   "source": [
    "### APIs at their core are contracts: Imagine two programs speaking different languages. An API acts as a standardized translator, defining the rules for how they exchange data and commands. \n",
    "### This contract specifies: <br> 1. Endpoints: URLs or specific locations within the system where requests are sent. <br> 2. Requests: Structured messages containing information like desired data, actions to perform, or authentication credentials. <br> 3. Responses: Structured messages sent back by the system, containing the requested data, results of actions, or error messages. <br> 4. Protocols: Rules governing how data is formatted (e.g., JSON, XML) and transmitted (e.g., HTTP). <br> 5. Documentation: Clear instructions for developers on how to use the API effectively."
   ]
  },
  {
   "cell_type": "markdown",
   "id": "9d53ef43",
   "metadata": {},
   "source": [
    "### Imagine two systems: <br> Client: This could be your mobile app, website, or any software program that needs data or functionality from another system. <br> Server: This holds the data or service that the client needs. It could be a database, a web service, or any other software component."
   ]
  },
  {
   "cell_type": "markdown",
   "id": "b82030ec",
   "metadata": {},
   "source": [
    "### HTTP response status codes indicate whether a specific HTTP request has been successfully completed. Responses are grouped in five classes:\n",
    "\n",
    "### 1. Informational responses (100 – 199) <br> 2. Successful responses (200 – 299) <br> 3. Redirection messages (300 – 399) <br> 4. Client error responses (400 – 499) <br> 5. Server error responses (500 – 599)"
   ]
  },
  {
   "cell_type": "markdown",
   "id": "b534271e",
   "metadata": {},
   "source": [
    "### Here we are developing an API using FASTAPI. <br> The tech stack includes Python the main programming language, FASTAPI a framework to develop API, Postgresql as a database, SqlAlchemy for raw sql."
   ]
  }
 ],
 "metadata": {
  "kernelspec": {
   "display_name": "Python 3 (ipykernel)",
   "language": "python",
   "name": "python3"
  },
  "language_info": {
   "codemirror_mode": {
    "name": "ipython",
    "version": 3
   },
   "file_extension": ".py",
   "mimetype": "text/x-python",
   "name": "python",
   "nbconvert_exporter": "python",
   "pygments_lexer": "ipython3",
   "version": "3.11.5"
  }
 },
 "nbformat": 4,
 "nbformat_minor": 5
}
