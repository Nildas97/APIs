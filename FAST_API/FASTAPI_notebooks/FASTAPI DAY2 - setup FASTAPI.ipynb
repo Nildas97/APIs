{
 "cells": [
  {
   "cell_type": "markdown",
   "id": "4782380c",
   "metadata": {},
   "source": [
    "# FASTAPI"
   ]
  },
  {
   "cell_type": "markdown",
   "id": "5599ec5f",
   "metadata": {},
   "source": [
    "## By - Nilutpal Das"
   ]
  },
  {
   "cell_type": "markdown",
   "id": "2b4827ae",
   "metadata": {},
   "source": [
    "## step1 : install fastapi"
   ]
  },
  {
   "cell_type": "markdown",
   "id": "675d2b61",
   "metadata": {},
   "source": [
    "**pip install fastapi[all]**"
   ]
  },
  {
   "cell_type": "markdown",
   "id": "31955bea",
   "metadata": {},
   "source": [
    "## step2 : create a main.py file"
   ]
  },
  {
   "cell_type": "raw",
   "id": "69d34558",
   "metadata": {},
   "source": [
    "from fastapi import FastAPI\n",
    "\n",
    "app = FastAPI()\n",
    "\n",
    "\n",
    "@app.get(\"/\")\n",
    "async def root():\n",
    "    return {\"message\": \"Hello World\"}"
   ]
  },
  {
   "cell_type": "markdown",
   "id": "b0ff8135",
   "metadata": {},
   "source": [
    "### in point1 we are importing the fastapi. <br> in point2 we are creating the instance of fastapi. <br> in point3 we are declaring decorator with fastapi instance and also declaring the http get method with url of root path<br> in point4 we are defining a general python function <br> in point5 we are defining the return statement which is in dictionary format. "
   ]
  },
  {
   "cell_type": "markdown",
   "id": "6dda9a6c",
   "metadata": {},
   "source": [
    "## step3 : run the main.py file"
   ]
  },
  {
   "cell_type": "markdown",
   "id": "75a420e0",
   "metadata": {},
   "source": [
    "**uvicorn main:app**"
   ]
  },
  {
   "cell_type": "markdown",
   "id": "bb3bb3f3",
   "metadata": {},
   "source": [
    "### this will show the localhost url path where the fastapi is running. by going to this in the browser it will show the content sent by the program."
   ]
  },
  {
   "cell_type": "raw",
   "id": "7190baa6",
   "metadata": {},
   "source": [
    "INFO:     Uvicorn running on http://127.0.0.1:8000 (Press CTRL+C to quit)"
   ]
  },
  {
   "cell_type": "markdown",
   "id": "e392eb2b",
   "metadata": {},
   "source": [
    "## to restart the server"
   ]
  },
  {
   "cell_type": "markdown",
   "id": "6712f620",
   "metadata": {},
   "source": [
    "**uvicorn main:app --reload**"
   ]
  },
  {
   "cell_type": "markdown",
   "id": "810bee0e",
   "metadata": {},
   "source": [
    "### NOTE: in fastapi the order of the function is also matter. if you place the function with the required http method and the required url then it will call that function even if it in the last. <br> the fastapi only searches for two main things: <br> a. the http request methods <br> b. the url assigned."
   ]
  }
 ],
 "metadata": {
  "kernelspec": {
   "display_name": "Python 3 (ipykernel)",
   "language": "python",
   "name": "python3"
  },
  "language_info": {
   "codemirror_mode": {
    "name": "ipython",
    "version": 3
   },
   "file_extension": ".py",
   "mimetype": "text/x-python",
   "name": "python",
   "nbconvert_exporter": "python",
   "pygments_lexer": "ipython3",
   "version": "3.11.5"
  }
 },
 "nbformat": 4,
 "nbformat_minor": 5
}
